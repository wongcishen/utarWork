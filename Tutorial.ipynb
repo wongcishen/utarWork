{
 "cells": [
  {
   "cell_type": "markdown",
   "id": "bad4e444",
   "metadata": {},
   "source": [
    "#common syntax\n"
   ]
  },
  {
   "cell_type": "markdown",
   "id": "960dfe99",
   "metadata": {},
   "source": [
    "# DATATYPES\n",
    "\n",
    "-STRING\n",
    "-INTERGER\n",
    "-FLOATING POINT NUMBER\n",
    "-BOOLEAN\n",
    "-COMPLEX NUMBER"
   ]
  },
  {
   "cell_type": "code",
   "execution_count": 4,
   "id": "26614b6d",
   "metadata": {},
   "outputs": [
    {
     "name": "stdout",
     "output_type": "stream",
     "text": [
      "<class 'int'>\n",
      "<class 'complex'>\n"
     ]
    }
   ],
   "source": [
    "x1=1\n",
    "x2=\"I am human\"\n",
    "x3=1.64\n",
    "x4=False\n",
    "x5=2j\n",
    "\n",
    "print(type(x1))\n",
    "print(type(x5))\n"
   ]
  },
  {
   "cell_type": "code",
   "execution_count": 5,
   "id": "af3fe700",
   "metadata": {},
   "outputs": [
    {
     "name": "stdout",
     "output_type": "stream",
     "text": [
      "19.5\n"
     ]
    }
   ],
   "source": [
    "y=\"19.5\"\n",
    "print(float(y))"
   ]
  },
  {
   "cell_type": "code",
   "execution_count": 8,
   "id": "0927c598",
   "metadata": {},
   "outputs": [],
   "source": [
    "#func\n",
    "\n",
    "def helloworld(x,y):\n",
    "    return(x+y)\n"
   ]
  },
  {
   "cell_type": "code",
   "execution_count": 9,
   "id": "7a3f83c2",
   "metadata": {},
   "outputs": [
    {
     "data": {
      "text/plain": [
       "18"
      ]
     },
     "execution_count": 9,
     "metadata": {},
     "output_type": "execute_result"
    }
   ],
   "source": [
    "helloworld(9,9)"
   ]
  },
  {
   "cell_type": "code",
   "execution_count": 21,
   "id": "a3e22449",
   "metadata": {},
   "outputs": [
    {
     "name": "stdout",
     "output_type": "stream",
     "text": [
      "['c', 'd']\n",
      "['a', 'c', 'e']\n",
      "['f', 'b', 'c', 'd', 'e']\n",
      "['c']\n"
     ]
    },
    {
     "data": {
      "text/plain": [
       "str"
      ]
     },
     "execution_count": 21,
     "metadata": {},
     "output_type": "execute_result"
    }
   ],
   "source": [
    "mylist=['a','b','c','d','e']\n",
    "mytuple={'a','b','c','d','e'}\n",
    "\n",
    "print(mylist[2:4])\n",
    "print(mylist[::2])\n",
    "\n",
    "mylist[0]=\"f\"\n",
    "print(mylist)\n",
    "print(mylist[2:4:2])\n",
    "\n",
    "\n",
    "type(mylist[0])\n",
    "\n"
   ]
  },
  {
   "cell_type": "code",
   "execution_count": 33,
   "id": "5f16632c",
   "metadata": {},
   "outputs": [
    {
     "name": "stdout",
     "output_type": "stream",
     "text": [
      "12\n",
      "(5,)\n",
      "<U11\n",
      "the dt type of x array is  <U11\n",
      "\n",
      "\n"
     ]
    }
   ],
   "source": [
    "import numpy as np\n",
    "\n",
    "nL=np.array([12,'b','c',45,'ten'])\n",
    "\n",
    "print(nL[0])\n",
    "print(nL.shape)\n",
    "print(nL.dtype)\n",
    "print(f\"the dt type of x array is  {nL.dtype}\")\n",
    "print()\n",
    "print()\n",
    "\n",
    "#OD Array -->()scalar\n",
    "#1D Array --> (4,)Vector\n",
    "#2D Array --> (4,4)Matrix\n",
    "#3D Arrat --> (4,2,3) tensor\n",
    "\n",
    "\n",
    "\n",
    "\n"
   ]
  },
  {
   "cell_type": "code",
   "execution_count": 34,
   "id": "adc4544b",
   "metadata": {},
   "outputs": [
    {
     "name": "stdout",
     "output_type": "stream",
     "text": [
      "(4, 2, 3)\n"
     ]
    }
   ],
   "source": [
    "#create a 3D array (image) with the shape [4,2,3]\n",
    "x=np.array([[[1,0,1],[-2,0,8]],\n",
    "           \n",
    "           [[-5,0,2],[1,7,3]],\n",
    "           \n",
    "           [[-3,9,1],[6,2,1]],\n",
    "           \n",
    "           [[1,0,0],[0,9,1]]])\n",
    "\n",
    "print(x.shape)"
   ]
  },
  {
   "cell_type": "code",
   "execution_count": 40,
   "id": "05383666",
   "metadata": {},
   "outputs": [],
   "source": [
    "def OddEven(x):\n",
    "    if(isinstance(x,int)):\n",
    "    \n",
    "        if(x%2==0):\n",
    "            print(f\"{x}is an even no\")\n",
    "\n",
    "        else:\n",
    "            print(f\"{x} is an odd\")\n",
    "              \n",
    "    else:\n",
    "        print(f\"{x} isnot an int\")\n",
    "              \n"
   ]
  },
  {
   "cell_type": "code",
   "execution_count": 41,
   "id": "548e5df8",
   "metadata": {},
   "outputs": [
    {
     "name": "stdout",
     "output_type": "stream",
     "text": [
      "10.5 isnot an int\n",
      "None\n"
     ]
    }
   ],
   "source": [
    "print(OddEven(10.5))"
   ]
  },
  {
   "cell_type": "code",
   "execution_count": 42,
   "id": "3e05517e",
   "metadata": {},
   "outputs": [
    {
     "name": "stdout",
     "output_type": "stream",
     "text": [
      "CPU times: total: 15.6 ms\n",
      "Wall time: 15.2 ms\n"
     ]
    }
   ],
   "source": [
    "numpy_list=np.arange(1e06) #Created a vector [0:999,999]\n",
    "pT=list(range(int(1e06)))\n",
    "\n",
    "%time for _ in range(10):numpy_list*2"
   ]
  },
  {
   "cell_type": "code",
   "execution_count": 44,
   "id": "3a622f6b",
   "metadata": {},
   "outputs": [
    {
     "name": "stdout",
     "output_type": "stream",
     "text": [
      "CPU times: total: 109 ms\n",
      "Wall time: 108 ms\n"
     ]
    }
   ],
   "source": [
    "%time for _ in range(10):pT*2"
   ]
  },
  {
   "cell_type": "code",
   "execution_count": 1,
   "id": "2bf63eda",
   "metadata": {},
   "outputs": [
    {
     "data": {
      "text/plain": [
       "'C:\\\\Users\\\\fict\\\\Downloads'"
      ]
     },
     "execution_count": 1,
     "metadata": {},
     "output_type": "execute_result"
    }
   ],
   "source": [
    "%pwd\n"
   ]
  },
  {
   "cell_type": "code",
   "execution_count": 1,
   "id": "4ae8e060",
   "metadata": {},
   "outputs": [
    {
     "data": {
      "text/plain": [
       "True"
      ]
     },
     "execution_count": 1,
     "metadata": {},
     "output_type": "execute_result"
    }
   ],
   "source": [
    "import sys\n",
    "# Python 3.7 is required\n",
    "assert sys.version_info >= (3,7)\n",
    "\n",
    "import cv2 as cv\n",
    "import numpy as np\n",
    "\n",
    "# For reproducibility,\n",
    "np.random.seed(99)\n",
    "\n",
    "# Make sure that optimization is enabled\n",
    "if not cv.useOptimized():\n",
    "    cv.setUseOptimized(True)\n",
    "\n",
    "cv.useOptimized()"
   ]
  },
  {
   "cell_type": "code",
   "execution_count": 15,
   "id": "36b4a516",
   "metadata": {},
   "outputs": [
    {
     "name": "stdout",
     "output_type": "stream",
     "text": [
      "(183, 275, 3)\n"
     ]
    }
   ],
   "source": [
    "# JFIF\n",
    "img = cv.imread('flower.jfif')\n",
    "print(img.shape)\n",
    "cv.imshow('JIFF image', img)\n",
    "cv.waitKey(0)\n",
    "cv.destroyAllWindows()\n",
    "\n",
    "#range (40,120)/(80,200)\n",
    "flower=img[40:120,80:200]\n",
    "cv.imshow('flower',flower)\n",
    "cv.waitKey(0)\n",
    "cv.destroyAllWindows()"
   ]
  },
  {
   "cell_type": "code",
   "execution_count": 13,
   "id": "5d92d55a",
   "metadata": {},
   "outputs": [
    {
     "data": {
      "text/plain": [
       "array([[[0, 0, 0],\n",
       "        [0, 0, 0],\n",
       "        [0, 0, 0],\n",
       "        ...,\n",
       "        [0, 0, 0],\n",
       "        [0, 0, 0],\n",
       "        [0, 0, 0]],\n",
       "\n",
       "       [[0, 0, 0],\n",
       "        [0, 0, 0],\n",
       "        [0, 0, 0],\n",
       "        ...,\n",
       "        [0, 0, 0],\n",
       "        [0, 0, 0],\n",
       "        [0, 0, 0]]], dtype=uint8)"
      ]
     },
     "execution_count": 13,
     "metadata": {},
     "output_type": "execute_result"
    }
   ],
   "source": []
  },
  {
   "cell_type": "code",
   "execution_count": 24,
   "id": "9e686fe3",
   "metadata": {},
   "outputs": [],
   "source": [
    "img = cv.imread('dog.jfif')\n",
    "img_resize = cv.resize(img, None, fx = 1.5, fy = 1.5, interpolation = cv.INTER_LINEAR)\n",
    "\n",
    "cv.imshow('upsize', img_resize)\n",
    "cv.waitKey(0)\n",
    "cv.destroyAllWindows()"
   ]
  },
  {
   "cell_type": "code",
   "execution_count": 23,
   "id": "c88d44cf",
   "metadata": {},
   "outputs": [],
   "source": [
    "img = cv.imread('dog.jfif')\n",
    "img_resize = cv.resize(img, None, fx = 1.5, fy = 1.5, interpolation = cv.INTER_CUBIC)\n",
    "\n",
    "cv.imshow('upsize', img_resize)\n",
    "cv.waitKey(0)\n",
    "cv.destroyAllWindows()"
   ]
  },
  {
   "cell_type": "code",
   "execution_count": 25,
   "id": "df8441de",
   "metadata": {},
   "outputs": [],
   "source": [
    "img = cv.imread('dog.jfif')\n",
    "img_resize2 = cv.resize(img, None, fx = 2, fy = 2, interpolation = cv.INTER_LINEAR)\n",
    "\n",
    "cv.imshow('upsize', img_resize2)\n",
    "cv.waitKey(0)\n",
    "cv.destroyAllWindows()"
   ]
  },
  {
   "cell_type": "code",
   "execution_count": null,
   "id": "154f30dd",
   "metadata": {},
   "outputs": [],
   "source": [
    "img = cv.imread('dog.jfif')\n",
    "img_resize = cv.resize(img, None, fx = 2, fy = 2, interpolation = cv.)\n",
    "\n",
    "cv.imshow('upsize', img_resize)\n",
    "cv.waitKey(0)\n",
    "cv.destroyAllWindows()"
   ]
  }
 ],
 "metadata": {
  "kernelspec": {
   "display_name": "Python 3 (ipykernel)",
   "language": "python",
   "name": "python3"
  },
  "language_info": {
   "codemirror_mode": {
    "name": "ipython",
    "version": 3
   },
   "file_extension": ".py",
   "mimetype": "text/x-python",
   "name": "python",
   "nbconvert_exporter": "python",
   "pygments_lexer": "ipython3",
   "version": "3.10.4"
  }
 },
 "nbformat": 4,
 "nbformat_minor": 5
}
